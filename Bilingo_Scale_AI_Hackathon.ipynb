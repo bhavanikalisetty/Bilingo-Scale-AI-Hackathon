pip install openai

try:
    # Used to securely store your API key
    from google.colab import userdata

    # Or use `os.getenv('API_KEY')` to fetch an environment variable.
    OPENAI_API_KEY=userdata.get('OPENAI_API_KEY')
    ELEVENLABS_API_KEY=userdata.get('ELEVENLABS_API_KEY')
except ImportError:
    import os
    OPENAI_API_KEY = os.environ['OPENAI_API_KEY']
    ELEVENLABS_API_KEY= os.environ['ELEVENLABS_API_KEY']
from openai import OpenAI

PROJECT_ID = "Deafult Project"

openai_client = OpenAI(
  api_key=OPENAI_API_KEY,
  organization='scale-openai-womxn-hackathon1'#,
  #project= PROJECT_ID,
)
from google.colab import drive
drive.mount('/content/drive')
#### Create Story ####

fav_books = "Frog and Toad are Friends"#"Where the Wild Things Are by Maurice Sendak, The Very Hungry Caterpillarby Eric Carle"
fav_animals="Dinosaur"
story_location="Candy Land"
input_prompt = "My kid is 5 yrs old. Write the story in the tone and voice of Frog and Toad book"
language = "Spanish"


final_prompt = f"""
                You are working on generating a story for kids that's readout by parents to the kid.
                Here are some books the kid might be interested in: {fav_books}.
                Here are some animals the kid might be interested in: {fav_animals}.
                Generate a story in the location set in: {story_location} including images that is similar to the kid's interests and absolutely follow the guidelines stated by the parent here: {input_prompt}.
                The image should follow this schema: [Image: abc]
              """.format(fav_books=fav_books, input_prompt=input_prompt)

resp = openai_client.chat.completions.create(
    model="gpt-4",
    messages=[
    {"role": "user", "content": final_prompt}
  ]
)

story_output = resp.choices[0].message.content


#print(resp.choices[0].message.content)
import re

story_text = re.sub(r"\[Image:.*?\]", "", story_output, flags=re.DOTALL)
print(story_text)
language = "Spanish"
language_change_prompt = f"""
                Generate the input story: {story_text} in {language} language.
              """.format(story_text=story_text, language=language)

language_change_resp = openai_client.chat.completions.create(
    model="gpt-4",
    messages=[
    {"role": "user", "content": language_change_prompt}
  ]
)

language_updated_story_text = language_change_resp.choices[0].message.content

print(language_updated_story_text)
print(story_output)
import re

image_descriptions = re.findall(r"\[Image: (.*?)\]", story_output)
print(image_descriptions)

pip install requests Pillow
import PIL.Image
import requests

story_images = []

for description in image_descriptions:
  image_gen_prompt = f"""
                  You are creating images for a story book. Here is the full story: {story_output}.
                  Now generate an image for this story and follow this description: {description}.
                  Absolutely follow the given description.
                """.format(story_output=story_output, description=description)
  dalle_resp = openai_client.images.generate(
    model="dall-e-3",
    prompt=image_gen_prompt,
    n=1,
    size="1024x1024"
  )
  story_images.append(dalle_resp)

print(story_images)

title = story_output.split("\n")[0].split("Title: ")[1]
print(title)  # Output: "In The Sky with The Flying Wonders"

import re
from IPython.display import display, HTML

# ... (extract image_descriptions) ...

# Assuming you have a list of image URLs:
image_urls = ["https://...", ...]  # Replace with your URLs


html_output = "<h1>" + story_output.split("\n")[0].split("Title: ")[1] + "</h1>\n\n"
for i, description in enumerate(story_images):
    html_output += f"<p><img src=\"{story_images[i].data[0].url}\" alt=\"{story_images[i].data[0].revised_prompt}\" width=\"300\" height=\"300\"></p>\n\n"
    html_output += "<p> <font size=\"+1\">" + story_output.split("[Image:")[i+1].split("]")[1] + "</p></font>\n\n" # Add corresponding text

display(HTML(html_output))


from pathlib import Path
import openai

file_path = '/content/drive/My Drive/Scale AI Hack/Story1.mp3'  # Replace with your file's path


speech_file_path = Path(file_path)#Path(__file__).parent / "speech.mp3"
response = openai_client.audio.speech.create(
  model="tts-1",
  voice="alloy",
  input=story_text
)

response.stream_to_file(speech_file_path)
pip install elevenlabs
from elevenlabs.client import ElevenLabs


elevenlabs_client = ElevenLabs(
  api_key=ELEVENLABS_API_KEY
)
from elevenlabs import Voice, VoiceSettings, play, save

## Kathy's voice ID: fAw3cgrXu3DHyi9vkEEs
## Dory's Voice ID: kj0BNWWWHM7bnj4AsNUG


story_readout = elevenlabs_client.generate(
  text=language_updated_story_text,
  voice=Voice(
        voice_id="kj0BNWWWHM7bnj4AsNUG",
        settings=VoiceSettings(stability=0.71, similarity_boost=0.5, style=0.0, use_speaker_boost=True)
    ),
  model="eleven_multilingual_v1"
)
save(story_readout, "/content/drive/My Drive/Scale AI Hack/Story By Dory In Spanish.mp3")
